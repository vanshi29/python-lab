{
 "cells": [
  {
   "cell_type": "code",
   "execution_count": 1,
   "metadata": {},
   "outputs": [
    {
     "name": "stdout",
     "output_type": "stream",
     "text": [
      "Enter password: Vanshi29#\n",
      "Valid Password\n"
     ]
    }
   ],
   "source": [
    "a, b, d, c = 0, 0, 0, 0\n",
    "x = input(\"Enter password: \")\n",
    "if (len(x) >= 8): \n",
    "    for i in x: \n",
    "  \n",
    "        # counting lowercase alphabets  \n",
    "        if (i.islower()): \n",
    "            a+=1            \n",
    "  \n",
    "        # counting uppercase alphabets \n",
    "        if (i.isupper()): \n",
    "            b+=1            \n",
    "  \n",
    "        # counting digits \n",
    "        if (i.isdigit()): \n",
    "            d+=1            \n",
    "  \n",
    "        # counting the mentioned special characters \n",
    "        if(i=='$'or i=='@' or i=='#'): \n",
    "            c+=1           \n",
    "if (a>=1 and b>=1 and d>=1 and c>=1 and a+b+d+c==len(x)): \n",
    "    print(\"Valid Password\") \n",
    "else: \n",
    "    print(\"Invalid Password\") "
   ]
  },
  {
   "cell_type": "code",
   "execution_count": null,
   "metadata": {},
   "outputs": [],
   "source": []
  }
 ],
 "metadata": {
  "kernelspec": {
   "display_name": "Python 3",
   "language": "python",
   "name": "python3"
  },
  "language_info": {
   "codemirror_mode": {
    "name": "ipython",
    "version": 3
   },
   "file_extension": ".py",
   "mimetype": "text/x-python",
   "name": "python",
   "nbconvert_exporter": "python",
   "pygments_lexer": "ipython3",
   "version": "3.8.3"
  }
 },
 "nbformat": 4,
 "nbformat_minor": 4
}
